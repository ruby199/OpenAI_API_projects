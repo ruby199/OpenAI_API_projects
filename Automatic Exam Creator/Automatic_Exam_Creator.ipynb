{
 "cells": [
  {
   "cell_type": "code",
   "execution_count": 6,
   "id": "842f04c3",
   "metadata": {},
   "outputs": [],
   "source": [
    "import os\n",
    "import openai"
   ]
  },
  {
   "cell_type": "code",
   "execution_count": 56,
   "id": "3b438455",
   "metadata": {},
   "outputs": [],
   "source": [
    "os.environ['OPENAI_API_KEY'] = 'YOUR API KEY'\n",
    "openai.api_key = os.getenv('OPENAI_API_KEY')"
   ]
  },
  {
   "cell_type": "code",
   "execution_count": 57,
   "id": "72c2aa83",
   "metadata": {},
   "outputs": [],
   "source": [
    "def create_test_prompt(topic, num_questions, num_possible_answers):\n",
    "    prompt = f\"Create a multiple choice quiz on the topic of {topic} consisting of {num_questions} \"\\\n",
    "            + f\"Each question sould have {num_possible_answers} options. \"\\\n",
    "            + f\"Also include the correct answer for each question using the starting string 'Correct Answer:' \"\n",
    "    return prompt\n",
    "    "
   ]
  },
  {
   "cell_type": "code",
   "execution_count": 58,
   "id": "be3fe09d",
   "metadata": {},
   "outputs": [],
   "source": [
    "# prompt = 'Gove me details about the technology startup called RubRub. Only answer if you are 100% sure that this company exists, otherwise specify, \\'I don\\'t know'"
   ]
  },
  {
   "cell_type": "code",
   "execution_count": 60,
   "id": "c2774799",
   "metadata": {},
   "outputs": [],
   "source": [
    "response = openai.Completion.create(engine='text-davinci-003',\n",
    "                                       prompt=create_test_prompt('Korean History', 4, 4),\n",
    "                                       max_tokens=256,\n",
    "                                       temperature=0.8)"
   ]
  },
  {
   "cell_type": "code",
   "execution_count": 61,
   "id": "9beb2cc2",
   "metadata": {},
   "outputs": [],
   "source": [
    "# print(response['choices'][0]['text'])\n",
    "# create_test_prompt(\"Python\", 4, 4)"
   ]
  },
  {
   "cell_type": "code",
   "execution_count": 62,
   "id": "fc74c70c",
   "metadata": {},
   "outputs": [
    {
     "name": "stdout",
     "output_type": "stream",
     "text": [
      "\n",
      "\n",
      "1) When did the Three Kingdoms of Korea period take place? \n",
      "A) 3rd century BC\n",
      "B) 7th century AD\n",
      "C) 13th century AD\n",
      "D) 16th century AD\n",
      "Correct Answer: B) 7th century AD\n",
      "\n",
      "2) Who was the founder of the Joseon Dynasty? \n",
      "A) Sejong the Great\n",
      "B) Gojong of Goryeo\n",
      "C) Jeongjo of Joseon\n",
      "D) Taejo of Joseon\n",
      "Correct Answer: D) Taejo of Joseon\n",
      "\n",
      "3) What was the year of the start of the Korean War? \n",
      "A) 1950\n",
      "B) 1953\n",
      "C) 1955\n",
      "D) 1960\n",
      "Correct Answer: A) 1950\n",
      "\n",
      "4) Who was the first President of the Republic of Korea? \n",
      "A) Park Chung-hee\n",
      "B) Syngman Rhee\n",
      "C) Kim Young-sam\n",
      "D) Kim Dae-jung\n",
      "Correct Answer: B) Syngman Rhee\n"
     ]
    }
   ],
   "source": [
    "print(response['choices'][0]['text'])"
   ]
  },
  {
   "cell_type": "code",
   "execution_count": 67,
   "id": "755d37f1",
   "metadata": {},
   "outputs": [],
   "source": [
    "def create_student_view(test, num_questions):\n",
    "    student_view = {1:''}\n",
    "    question_number = 1\n",
    "    for line in test.split(\"\\n\"):\n",
    "        if not line.startswith(\"Correct Answer:\"):\n",
    "            student_view[question_number] += line + '\\n'\n",
    "        else:\n",
    "            if question_number < num_questions:\n",
    "                question_number += 1\n",
    "                student_view[question_number] = ''\n",
    "    return student_view"
   ]
  },
  {
   "cell_type": "code",
   "execution_count": 70,
   "id": "be01db66",
   "metadata": {},
   "outputs": [],
   "source": [
    "result = create_student_view(response['choices'][0]['text'],4)"
   ]
  },
  {
   "cell_type": "code",
   "execution_count": 72,
   "id": "56782d79",
   "metadata": {},
   "outputs": [
    {
     "name": "stdout",
     "output_type": "stream",
     "text": [
      "\n",
      "\n",
      "1) When did the Three Kingdoms of Korea period take place? \n",
      "A) 3rd century BC\n",
      "B) 7th century AD\n",
      "C) 13th century AD\n",
      "D) 16th century AD\n",
      "\n",
      "\n",
      "2) Who was the founder of the Joseon Dynasty? \n",
      "A) Sejong the Great\n",
      "B) Gojong of Goryeo\n",
      "C) Jeongjo of Joseon\n",
      "D) Taejo of Joseon\n",
      "\n",
      "\n",
      "3) What was the year of the start of the Korean War? \n",
      "A) 1950\n",
      "B) 1953\n",
      "C) 1955\n",
      "D) 1960\n",
      "\n",
      "\n",
      "4) Who was the first President of the Republic of Korea? \n",
      "A) Park Chung-hee\n",
      "B) Syngman Rhee\n",
      "C) Kim Young-sam\n",
      "D) Kim Dae-jung\n",
      "\n"
     ]
    }
   ],
   "source": [
    "for key in result:\n",
    "    print(result[key])"
   ]
  },
  {
   "cell_type": "code",
   "execution_count": 79,
   "id": "2487cfee",
   "metadata": {},
   "outputs": [],
   "source": [
    "def extract_answer(test, num_questions):\n",
    "    answers = {1:''}\n",
    "    question_number = 1\n",
    "    for line in test.split(\"\\n\"):\n",
    "        if line.startswith(\"Correct Answer:\"):\n",
    "            answers[question_number] += line + '\\n'\n",
    "\n",
    "            if question_number < num_questions:\n",
    "                question_number += 1\n",
    "                answers[question_number] = ''\n",
    "    return answers"
   ]
  },
  {
   "cell_type": "code",
   "execution_count": 87,
   "id": "8c881b02",
   "metadata": {},
   "outputs": [],
   "source": [
    "# Exam Simulation\n",
    "student_view = create_student_view(response['choices'][0]['text'],4)"
   ]
  },
  {
   "cell_type": "code",
   "execution_count": 88,
   "id": "6a6cc77f",
   "metadata": {},
   "outputs": [],
   "source": [
    "answers = extract_answer(response['choices'][0]['text'],4)"
   ]
  },
  {
   "cell_type": "code",
   "execution_count": 91,
   "id": "cc94de79",
   "metadata": {},
   "outputs": [],
   "source": [
    "# TAKE THE EXAM\n",
    "def take(student_view):\n",
    "    student_answers = {}\n",
    "    for question, student_view in student_view.items():\n",
    "        print(student_view)\n",
    "        answer = input(\"Enter your anwer: \")\n",
    "        student_answers[question] = answer\n",
    "    return student_answers"
   ]
  },
  {
   "cell_type": "code",
   "execution_count": 94,
   "id": "76e268a8",
   "metadata": {},
   "outputs": [
    {
     "name": "stdout",
     "output_type": "stream",
     "text": [
      "\n",
      "\n",
      "1) When did the Three Kingdoms of Korea period take place? \n",
      "A) 3rd century BC\n",
      "B) 7th century AD\n",
      "C) 13th century AD\n",
      "D) 16th century AD\n",
      "\n",
      "Enter your anwer: D\n",
      "\n",
      "2) Who was the founder of the Joseon Dynasty? \n",
      "A) Sejong the Great\n",
      "B) Gojong of Goryeo\n",
      "C) Jeongjo of Joseon\n",
      "D) Taejo of Joseon\n",
      "\n",
      "Enter your anwer: D\n",
      "\n",
      "3) What was the year of the start of the Korean War? \n",
      "A) 1950\n",
      "B) 1953\n",
      "C) 1955\n",
      "D) 1960\n",
      "\n",
      "Enter your anwer: A\n",
      "\n",
      "4) Who was the first President of the Republic of Korea? \n",
      "A) Park Chung-hee\n",
      "B) Syngman Rhee\n",
      "C) Kim Young-sam\n",
      "D) Kim Dae-jung\n",
      "\n",
      "Enter your anwer: C\n"
     ]
    }
   ],
   "source": [
    "student_answers = take(student_view)"
   ]
  },
  {
   "cell_type": "code",
   "execution_count": 95,
   "id": "7303868b",
   "metadata": {},
   "outputs": [
    {
     "data": {
      "text/plain": [
       "{1: 'D', 2: 'D', 3: 'A', 4: 'C'}"
      ]
     },
     "execution_count": 95,
     "metadata": {},
     "output_type": "execute_result"
    }
   ],
   "source": [
    "student_answers"
   ]
  },
  {
   "cell_type": "code",
   "execution_count": 100,
   "id": "b005cff8",
   "metadata": {},
   "outputs": [
    {
     "data": {
      "text/plain": [
       "'B'"
      ]
     },
     "execution_count": 100,
     "metadata": {},
     "output_type": "execute_result"
    }
   ],
   "source": [
    "answers[1][16]"
   ]
  },
  {
   "cell_type": "code",
   "execution_count": 109,
   "id": "d145b4fa",
   "metadata": {},
   "outputs": [],
   "source": [
    "def grade(correct_answer_dict, student_answers):\n",
    "    correct_answers = 0\n",
    "    for question, answer in student_answers.items():\n",
    "        if answer.upper() == correct_answer_dict[question][16]:\n",
    "            correct_answers += 1\n",
    "    \n",
    "    grade = 100 * correct_answers / len(answers)\n",
    "    \n",
    "    if grade < 50:\n",
    "        passed = \"NOT PASS\"\n",
    "    else:\n",
    "        passed = \"Pass!\"\n",
    "    \n",
    "    return f\"{correct_answers}/{len(answers)} correct! You got {grade} grade, {passed}\""
   ]
  },
  {
   "cell_type": "code",
   "execution_count": 110,
   "id": "24c431e6",
   "metadata": {},
   "outputs": [
    {
     "data": {
      "text/plain": [
       "'2/4 correct! You got 50.0 grade, Pass!'"
      ]
     },
     "execution_count": 110,
     "metadata": {},
     "output_type": "execute_result"
    }
   ],
   "source": [
    "grade(answers, student_answers)"
   ]
  }
 ],
 "metadata": {
  "kernelspec": {
   "display_name": "Python 3 (ipykernel)",
   "language": "python",
   "name": "python3"
  },
  "language_info": {
   "codemirror_mode": {
    "name": "ipython",
    "version": 3
   },
   "file_extension": ".py",
   "mimetype": "text/x-python",
   "name": "python",
   "nbconvert_exporter": "python",
   "pygments_lexer": "ipython3",
   "version": "3.10.11"
  }
 },
 "nbformat": 4,
 "nbformat_minor": 5
}
