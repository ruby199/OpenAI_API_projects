{
 "cells": [
  {
   "cell_type": "code",
   "execution_count": 64,
   "id": "22cfcb02",
   "metadata": {},
   "outputs": [],
   "source": [
    "import openai\n",
    "import os"
   ]
  },
  {
   "cell_type": "code",
   "execution_count": 2,
   "id": "e3a2b052",
   "metadata": {},
   "outputs": [
    {
     "name": "stdout",
     "output_type": "stream",
     "text": [
      "Collecting praw\n",
      "  Downloading praw-7.7.0-py3-none-any.whl (189 kB)\n",
      "     ---------------------------------------- 0.0/189.4 kB ? eta -:--:--\n",
      "     ------------------------------------- 189.4/189.4 kB 11.2 MB/s eta 0:00:00\n",
      "Requirement already satisfied: websocket-client>=0.54.0 in c:\\users\\yscho73\\appdata\\local\\packages\\pythonsoftwarefoundation.python.3.10_qbz5n2kfra8p0\\localcache\\local-packages\\python310\\site-packages (from praw) (1.5.1)\n",
      "Collecting prawcore<3,>=2.1\n",
      "  Downloading prawcore-2.3.0-py3-none-any.whl (16 kB)\n",
      "Collecting update-checker>=0.18\n",
      "  Downloading update_checker-0.18.0-py3-none-any.whl (7.0 kB)\n",
      "Requirement already satisfied: requests<3.0,>=2.6.0 in c:\\users\\yscho73\\appdata\\local\\packages\\pythonsoftwarefoundation.python.3.10_qbz5n2kfra8p0\\localcache\\local-packages\\python310\\site-packages (from prawcore<3,>=2.1->praw) (2.28.2)\n",
      "Requirement already satisfied: urllib3<1.27,>=1.21.1 in c:\\users\\yscho73\\appdata\\local\\packages\\pythonsoftwarefoundation.python.3.10_qbz5n2kfra8p0\\localcache\\local-packages\\python310\\site-packages (from requests<3.0,>=2.6.0->prawcore<3,>=2.1->praw) (1.26.15)\n",
      "Requirement already satisfied: idna<4,>=2.5 in c:\\users\\yscho73\\appdata\\local\\packages\\pythonsoftwarefoundation.python.3.10_qbz5n2kfra8p0\\localcache\\local-packages\\python310\\site-packages (from requests<3.0,>=2.6.0->prawcore<3,>=2.1->praw) (3.4)\n",
      "Requirement already satisfied: charset-normalizer<4,>=2 in c:\\users\\yscho73\\appdata\\local\\packages\\pythonsoftwarefoundation.python.3.10_qbz5n2kfra8p0\\localcache\\local-packages\\python310\\site-packages (from requests<3.0,>=2.6.0->prawcore<3,>=2.1->praw) (3.1.0)\n",
      "Requirement already satisfied: certifi>=2017.4.17 in c:\\users\\yscho73\\appdata\\local\\packages\\pythonsoftwarefoundation.python.3.10_qbz5n2kfra8p0\\localcache\\local-packages\\python310\\site-packages (from requests<3.0,>=2.6.0->prawcore<3,>=2.1->praw) (2022.12.7)\n",
      "Installing collected packages: update-checker, prawcore, praw\n",
      "Successfully installed praw-7.7.0 prawcore-2.3.0 update-checker-0.18.0\n"
     ]
    }
   ],
   "source": [
    "# !pip install praw"
   ]
  },
  {
   "cell_type": "code",
   "execution_count": 12,
   "id": "f48fd1c9",
   "metadata": {},
   "outputs": [],
   "source": [
    "import praw"
   ]
  },
  {
   "cell_type": "code",
   "execution_count": 65,
   "id": "f6c71b75",
   "metadata": {},
   "outputs": [],
   "source": [
    "client_id = \"your_client_id\"\n",
    "client_secret = \"your_client_secret\"\n",
    "\n",
    "os.environ['OPENAI_API_KEY'] = 'YOUR__API_KEY'\n",
    "openai.api_key = os.getenv('OPENAI_API_KEY')\n"
   ]
  },
  {
   "cell_type": "code",
   "execution_count": 15,
   "id": "a9001b80",
   "metadata": {},
   "outputs": [],
   "source": [
    "reddit = praw.Reddit(client_id=client_id, # import os  os.environ['REDDIT_CLIENT']\n",
    "                    client_secret=client_secret,\n",
    "                    user_agent = \"sentiment analysis test\"\n",
    "                    )"
   ]
  },
  {
   "cell_type": "code",
   "execution_count": 28,
   "id": "d1b92fd2",
   "metadata": {},
   "outputs": [
    {
     "name": "stdout",
     "output_type": "stream",
     "text": [
      "Rate My Portfolio - r/Stocks Quarterly Thread March 2023\n",
      "/r/Stocks Weekend Discussion Saturday - Apr 08, 2023\n",
      "A $1.5 Trillion Wall of Debt Is Looming for US Commercial Properties\n",
      "Beyond Meat stock analysis and valuation - A worthless company?\n",
      "Is Costco over valued?\n"
     ]
    }
   ],
   "source": [
    "for submission in reddit.subreddit(\"stocks\").hot(limit=5):\n",
    "    print(submission.title) # reddit.com/r/stocks"
   ]
  },
  {
   "cell_type": "code",
   "execution_count": 38,
   "id": "756e9ec2",
   "metadata": {},
   "outputs": [],
   "source": [
    "subreddit_stocks = reddit.subreddit(\"stocks\")"
   ]
  },
  {
   "cell_type": "code",
   "execution_count": 39,
   "id": "ae89c320",
   "metadata": {},
   "outputs": [
    {
     "data": {
      "text/plain": [
       "'Stocks - Investing and trading for all'"
      ]
     },
     "execution_count": 39,
     "metadata": {},
     "output_type": "execute_result"
    }
   ],
   "source": [
    "subreddit_stocks.title"
   ]
  },
  {
   "cell_type": "code",
   "execution_count": 40,
   "id": "e0d1f148",
   "metadata": {},
   "outputs": [
    {
     "data": {
      "text/plain": [
       "3629"
      ]
     },
     "execution_count": 40,
     "metadata": {},
     "output_type": "execute_result"
    }
   ],
   "source": [
    "subreddit_stocks.accounts_active"
   ]
  },
  {
   "cell_type": "code",
   "execution_count": 47,
   "id": "c50cd9f5",
   "metadata": {},
   "outputs": [
    {
     "name": "stdout",
     "output_type": "stream",
     "text": [
      "Rate My Portfolio - r/Stocks Quarterly Thread March 2023\n",
      "/r/Stocks Weekend Discussion Saturday - Apr 08, 2023\n",
      "A $1.5 Trillion Wall of Debt Is Looming for US Commercial Properties\n",
      "Beyond Meat stock analysis and valuation - A worthless company?\n",
      "Is Costco over valued?\n"
     ]
    }
   ],
   "source": [
    "for post in subreddit_stocks.hot(limit=5):\n",
    "    print(post.title) # post have unique id (post.id)\n",
    "    submission = reddit.submission(post.id)\n",
    "    \n",
    "    # print top 2 comments per title submission\n",
    "    counter = 0\n",
    "    for comments in submission.comments:\n",
    "        if comments.body == '[deleted]':\n",
    "            pass\n",
    "        counter += 1\n",
    "        if counter == 2:\n",
    "            break\n",
    "    \n",
    "    "
   ]
  },
  {
   "cell_type": "code",
   "execution_count": 48,
   "id": "abde17fc",
   "metadata": {},
   "outputs": [],
   "source": [
    "###  Perform Sentiment Analysis via OpenAI"
   ]
  },
  {
   "cell_type": "code",
   "execution_count": 55,
   "id": "cb8d6f98",
   "metadata": {},
   "outputs": [],
   "source": [
    "def get_titles_and_comments(subreddit=\"stocks\", limit=6, num_comments=3, skip_first=2):\n",
    "    subreddit = reddit.subreddit(subreddit)\n",
    "    title_and_comments = {}\n",
    "\n",
    "    for counter, post in enumerate(subreddit.hot(limit=limit)):\n",
    "        if counter < skip_first:\n",
    "            continue\n",
    "\n",
    "        counter += (1 - skip_first)\n",
    "\n",
    "        title_and_comments[counter] = \"\"\n",
    "        # PRAW\n",
    "        submission = reddit.submission(post.id)\n",
    "        title = post.title\n",
    "\n",
    "        title_and_comments[counter] += \"Title: \" + title + \"\\n\\n\"\n",
    "        title_and_comments[counter] += \"Comments: \\n\\n\"\n",
    "\n",
    "        comment_counter = 0\n",
    "        for comment in submission.comments:\n",
    "            if not comment.body == \"[deleted]\":\n",
    "                title_and_comments[counter] += comment.body + \"\\n\"\n",
    "                comment_counter += 1\n",
    "            if comment_counter == num_comments:\n",
    "                break\n",
    "    return title_and_comments\n"
   ]
  },
  {
   "cell_type": "code",
   "execution_count": 56,
   "id": "99f0da21",
   "metadata": {},
   "outputs": [],
   "source": [
    "titles_and_comments = get_titles_and_comments()"
   ]
  },
  {
   "cell_type": "code",
   "execution_count": 57,
   "id": "480b737c",
   "metadata": {},
   "outputs": [
    {
     "data": {
      "text/plain": [
       "{1: 'Title: A $1.5 Trillion Wall of Debt Is Looming for US Commercial Properties\\n\\nComments: \\n\\nImo these commercial real estate owners live in a different reality. \\n\\nI keep seeing empty properties since before the pandemic. These just stay there… some without being sold and some without the price being reduced thinking someone will eventually come and pay the outrageous price.\\n\\nAnd now that many are being converted to regular housing they also want to either charge a lot or don’t pay for the transformation so again they rather hold it empty for YEARS.  And this is stuff from before the pandemic.\\nI live in AZ and it’s not uncommon to see multiple tilt slab construction without any tenants now. From what I understand many of these are planned 2 years ahead so thank you COVID boom/bust. \\nI agree, this could be ugly for commercial and industrial properties.\\nSo how does one short it?\\n',\n",
       " 2: \"Title: Beyond Meat stock analysis and valuation - A worthless company?\\n\\nComments: \\n\\nLooks like they need to…. Beef up their balance sheet\\nProblem is they don’t have a solid demographic— they only sell to middle Americans who might try it once and even if they like it forget about them the next day. The ultra fringe niche health food people all view Beyond Meat as ultra processed, non-eco friendly quasi-healthy junk food. They lost their initial audience now that everyone is concerned about seed oils etc. If the brand was going to blow up it would have been the moment they got absorbed into fast food chains. That didn’t happen. Beyond Meat and Oatly were both major duds in the stock market.\\nI work at a grocery retailer and do store walks and visits very frequently. BYND products are always fully stocked and usually the only thing in that department with a max shelf capacity. It looks like no one buys them.\\n\\nI focus on non-fresh items so I don't pat much attention to them, but they keep losing planogram space to other products\\n\",\n",
       " 3: \"Title: Is Costco over valued?\\n\\nComments: \\n\\nCostco 4 life. Obey the law. Respect the customers, respect the employees, reward the shareholders. Simple mission statement. Effective business. \\n\\nMember retention is still 90%\\nI'm not great at DD, but I can tell you the Costco near me is always packed. I sometimes don't want to go because of it.\\nI've worked for costco for 10 years now, and there is no sign of slowing down growth. There are plans to open more and more warehouses every year until we take over the world. \\n\\nThe warehouse I am currently at just opened in November of 2022 and we created like 600k in sales a day on the weekend seemingly out of thin air. And that is low volume for one of our warehouses. \\n\\nWe barely made a dent in the other local costcos numbers.\\n\",\n",
       " 4: \"Title: Would I be better off buying tqqq instead of qqq long term?\\n\\nComments: \\n\\nCheck out r/LETFs\\nI've traditionally done well in triple leveraged funds but they're not really designed to be held over the long term. You can do some googling on the topic but I'd say generally stay away. I have done well with udow in the past when something crazy happened (for example bought in almost at the bottom of covid and held during run up)\\nIf you can hit another 8 year bull market, yea, otherwise probably not.\\n\"}"
      ]
     },
     "execution_count": 57,
     "metadata": {},
     "output_type": "execute_result"
    }
   ],
   "source": [
    "titles_and_comments"
   ]
  },
  {
   "cell_type": "code",
   "execution_count": 59,
   "id": "7679795d",
   "metadata": {},
   "outputs": [],
   "source": [
    "# Create the final prompt\n",
    "\n",
    "def create_prompt(title_and_comments):\n",
    "    task = \"Return the stock ticker or company name mentioned in the following title and comments and classify the sentiment around the company as positive , negative, or neutral. If no ticker or company is mentioned write 'No company mentioned'\\n\\n\"\n",
    "    return task + title_and_comments\n",
    "    "
   ]
  },
  {
   "cell_type": "code",
   "execution_count": 62,
   "id": "f2008d7c",
   "metadata": {},
   "outputs": [
    {
     "name": "stdout",
     "output_type": "stream",
     "text": [
      "Return the stock ticker or company name mentioned in the following title and comments and classify the sentiment around the company as positive , negative, or neutral. If no ticker or company is mentioned write 'No company mentioned'\n",
      "\n",
      "Title: A $1.5 Trillion Wall of Debt Is Looming for US Commercial Properties\n",
      "\n",
      "Comments: \n",
      "\n",
      "Imo these commercial real estate owners live in a different reality. \n",
      "\n",
      "I keep seeing empty properties since before the pandemic. These just stay there… some without being sold and some without the price being reduced thinking someone will eventually come and pay the outrageous price.\n",
      "\n",
      "And now that many are being converted to regular housing they also want to either charge a lot or don’t pay for the transformation so again they rather hold it empty for YEARS.  And this is stuff from before the pandemic.\n",
      "I live in AZ and it’s not uncommon to see multiple tilt slab construction without any tenants now. From what I understand many of these are planned 2 years ahead so thank you COVID boom/bust. \n",
      "I agree, this could be ugly for commercial and industrial properties.\n",
      "So how does one short it?\n",
      "\n"
     ]
    }
   ],
   "source": [
    "print(create_prompt(titles_and_comments[1])) # sending this into GPT engine"
   ]
  },
  {
   "cell_type": "code",
   "execution_count": 67,
   "id": "4a629cc7",
   "metadata": {},
   "outputs": [
    {
     "name": "stdout",
     "output_type": "stream",
     "text": [
      "Title: A $1.5 Trillion Wall of Debt Is Looming for US Commercial Properties\n",
      "\n",
      "Comments: \n",
      "\n",
      "Imo these commercial real estate owners live in a different reality. \n",
      "\n",
      "I keep seeing empty properties since before the pandemic. These just stay there… some without being sold and some without the price being reduced thinking someone will eventually come and pay the outrageous price.\n",
      "\n",
      "And now that many are being converted to regular housing they also want to either charge a lot or don’t pay for the transformation so again they rather hold it empty for YEARS.  And this is stuff from before the pandemic.\n",
      "I live in AZ and it’s not uncommon to see multiple tilt slab construction without any tenants now. From what I understand many of these are planned 2 years ahead so thank you COVID boom/bust. \n",
      "I agree, this could be ugly for commercial and industrial properties.\n",
      "So how does one short it?\n",
      "\n",
      "Sentiment Report from OpenAI: \n",
      "No company mentioned.\n",
      "---------------------------------------------\n",
      "Title: Beyond Meat stock analysis and valuation - A worthless company?\n",
      "\n",
      "Comments: \n",
      "\n",
      "Looks like they need to…. Beef up their balance sheet\n",
      "Problem is they don’t have a solid demographic— they only sell to middle Americans who might try it once and even if they like it forget about them the next day. The ultra fringe niche health food people all view Beyond Meat as ultra processed, non-eco friendly quasi-healthy junk food. They lost their initial audience now that everyone is concerned about seed oils etc. If the brand was going to blow up it would have been the moment they got absorbed into fast food chains. That didn’t happen. Beyond Meat and Oatly were both major duds in the stock market.\n",
      "I work at a grocery retailer and do store walks and visits very frequently. BYND products are always fully stocked and usually the only thing in that department with a max shelf capacity. It looks like no one buys them.\n",
      "\n",
      "I focus on non-fresh items so I don't pat much attention to them, but they keep losing planogram space to other products\n",
      "\n",
      "Sentiment Report from OpenAI: \n",
      "Company: Beyond Meat\n",
      "Sentiment: Negative\n",
      "---------------------------------------------\n",
      "Title: Is Costco over valued?\n",
      "\n",
      "Comments: \n",
      "\n",
      "Costco 4 life. Obey the law. Respect the customers, respect the employees, reward the shareholders. Simple mission statement. Effective business. \n",
      "\n",
      "Member retention is still 90%\n",
      "I'm not great at DD, but I can tell you the Costco near me is always packed. I sometimes don't want to go because of it.\n",
      "I've worked for costco for 10 years now, and there is no sign of slowing down growth. There are plans to open more and more warehouses every year until we take over the world. \n",
      "\n",
      "The warehouse I am currently at just opened in November of 2022 and we created like 600k in sales a day on the weekend seemingly out of thin air. And that is low volume for one of our warehouses. \n",
      "\n",
      "We barely made a dent in the other local costcos numbers.\n",
      "\n",
      "Sentiment Report from OpenAI: \n",
      "Costco (COST): Neutral\n",
      "---------------------------------------------\n",
      "Title: Would I be better off buying tqqq instead of qqq long term?\n",
      "\n",
      "Comments: \n",
      "\n",
      "Check out r/LETFs\n",
      "I've traditionally done well in triple leveraged funds but they're not really designed to be held over the long term. You can do some googling on the topic but I'd say generally stay away. I have done well with udow in the past when something crazy happened (for example bought in almost at the bottom of covid and held during run up)\n",
      "If you can hit another 8 year bull market, yea, otherwise probably not.\n",
      "\n",
      "Sentiment Report from OpenAI: \n",
      "TQQQ (ProShares UltraPro QQQ) Positive\n",
      "---------------------------------------------\n"
     ]
    }
   ],
   "source": [
    "for key, title_with_comments in titles_and_comments.items():\n",
    "    prompt = create_prompt(title_with_comments)\n",
    "    \n",
    "    response = openai.Completion.create(engine='text-davinci-003', \n",
    "                                        prompt=prompt, \n",
    "                                        max_tokens=256, \n",
    "                                        temperature=0, \n",
    "                                        top_p=1.0\n",
    "                                       )\n",
    "    print(title_with_comments)\n",
    "    print(f\"Sentiment Report from OpenAI: {response['choices'][0]['text']}\")\n",
    "    print(\"---------------------------------------------\")"
   ]
  },
  {
   "cell_type": "code",
   "execution_count": null,
   "id": "4d4187a0",
   "metadata": {},
   "outputs": [],
   "source": []
  }
 ],
 "metadata": {
  "kernelspec": {
   "display_name": "Python 3 (ipykernel)",
   "language": "python",
   "name": "python3"
  },
  "language_info": {
   "codemirror_mode": {
    "name": "ipython",
    "version": 3
   },
   "file_extension": ".py",
   "mimetype": "text/x-python",
   "name": "python",
   "nbconvert_exporter": "python",
   "pygments_lexer": "ipython3",
   "version": "3.10.11"
  }
 },
 "nbformat": 4,
 "nbformat_minor": 5
}
