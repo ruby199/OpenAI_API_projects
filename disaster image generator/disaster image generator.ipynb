{
 "cells": [
  {
   "cell_type": "code",
   "execution_count": 59,
   "id": "f9471806",
   "metadata": {},
   "outputs": [
    {
     "name": "stdout",
     "output_type": "stream",
     "text": [
      "pip 23.0.1 from C:\\Users\\yscho73\\AppData\\Local\\Packages\\PythonSoftwareFoundation.Python.3.10_qbz5n2kfra8p0\\LocalCache\\local-packages\\Python310\\site-packages\\pip (python 3.10)\n",
      "\n",
      "Requirement already satisfied: torch in c:\\users\\yscho73\\appdata\\local\\packages\\pythonsoftwarefoundation.python.3.10_qbz5n2kfra8p0\\localcache\\local-packages\\python310\\site-packages (2.0.0)\n",
      "Requirement already satisfied: torchvision in c:\\users\\yscho73\\appdata\\local\\packages\\pythonsoftwarefoundation.python.3.10_qbz5n2kfra8p0\\localcache\\local-packages\\python310\\site-packages (0.15.1)\n",
      "Requirement already satisfied: networkx in c:\\users\\yscho73\\appdata\\local\\packages\\pythonsoftwarefoundation.python.3.10_qbz5n2kfra8p0\\localcache\\local-packages\\python310\\site-packages (from torch) (3.0)\n",
      "Requirement already satisfied: typing-extensions in c:\\users\\yscho73\\appdata\\local\\packages\\pythonsoftwarefoundation.python.3.10_qbz5n2kfra8p0\\localcache\\local-packages\\python310\\site-packages (from torch) (4.5.0)\n",
      "Requirement already satisfied: jinja2 in c:\\users\\yscho73\\appdata\\local\\packages\\pythonsoftwarefoundation.python.3.10_qbz5n2kfra8p0\\localcache\\local-packages\\python310\\site-packages (from torch) (3.1.2)\n",
      "Requirement already satisfied: sympy in c:\\users\\yscho73\\appdata\\local\\packages\\pythonsoftwarefoundation.python.3.10_qbz5n2kfra8p0\\localcache\\local-packages\\python310\\site-packages (from torch) (1.11.1)\n",
      "Requirement already satisfied: filelock in c:\\users\\yscho73\\appdata\\local\\packages\\pythonsoftwarefoundation.python.3.10_qbz5n2kfra8p0\\localcache\\local-packages\\python310\\site-packages (from torch) (3.10.7)\n",
      "Requirement already satisfied: numpy in c:\\users\\yscho73\\appdata\\local\\packages\\pythonsoftwarefoundation.python.3.10_qbz5n2kfra8p0\\localcache\\local-packages\\python310\\site-packages (from torchvision) (1.24.2)\n",
      "Requirement already satisfied: requests in c:\\users\\yscho73\\appdata\\local\\packages\\pythonsoftwarefoundation.python.3.10_qbz5n2kfra8p0\\localcache\\local-packages\\python310\\site-packages (from torchvision) (2.28.2)\n",
      "Requirement already satisfied: pillow!=8.3.*,>=5.3.0 in c:\\users\\yscho73\\appdata\\local\\packages\\pythonsoftwarefoundation.python.3.10_qbz5n2kfra8p0\\localcache\\local-packages\\python310\\site-packages (from torchvision) (9.5.0)\n",
      "Requirement already satisfied: MarkupSafe>=2.0 in c:\\users\\yscho73\\appdata\\local\\packages\\pythonsoftwarefoundation.python.3.10_qbz5n2kfra8p0\\localcache\\local-packages\\python310\\site-packages (from jinja2->torch) (2.1.2)\n",
      "Requirement already satisfied: idna<4,>=2.5 in c:\\users\\yscho73\\appdata\\local\\packages\\pythonsoftwarefoundation.python.3.10_qbz5n2kfra8p0\\localcache\\local-packages\\python310\\site-packages (from requests->torchvision) (3.4)\n",
      "Requirement already satisfied: charset-normalizer<4,>=2 in c:\\users\\yscho73\\appdata\\local\\packages\\pythonsoftwarefoundation.python.3.10_qbz5n2kfra8p0\\localcache\\local-packages\\python310\\site-packages (from requests->torchvision) (3.1.0)\n",
      "Requirement already satisfied: urllib3<1.27,>=1.21.1 in c:\\users\\yscho73\\appdata\\local\\packages\\pythonsoftwarefoundation.python.3.10_qbz5n2kfra8p0\\localcache\\local-packages\\python310\\site-packages (from requests->torchvision) (1.26.15)\n",
      "Requirement already satisfied: certifi>=2017.4.17 in c:\\users\\yscho73\\appdata\\local\\packages\\pythonsoftwarefoundation.python.3.10_qbz5n2kfra8p0\\localcache\\local-packages\\python310\\site-packages (from requests->torchvision) (2022.12.7)\n",
      "Requirement already satisfied: mpmath>=0.19 in c:\\users\\yscho73\\appdata\\local\\packages\\pythonsoftwarefoundation.python.3.10_qbz5n2kfra8p0\\localcache\\local-packages\\python310\\site-packages (from sympy->torch) (1.3.0)\n",
      "tensor([[ 0.7766,  0.7041, -0.1676],\n",
      "        [ 0.8430,  1.6919,  0.1321],\n",
      "        [ 1.4843, -0.0290, -0.6535],\n",
      "        [-0.9966, -0.0975,  0.2626],\n",
      "        [-2.0720,  2.3148,  1.1979]])\n"
     ]
    }
   ],
   "source": [
    "!pip --version\n",
    "!pip install torch torchvision\n",
    "\n",
    "import torch\n",
    "x = torch.randn(5, 3)\n",
    "print(x)\n"
   ]
  },
  {
   "cell_type": "code",
   "execution_count": null,
   "id": "98230755",
   "metadata": {},
   "outputs": [],
   "source": [
    "import os\n",
    "import openai\n",
    "import requests\n",
    "import shutil\n",
    "import random\n",
    "from PIL import Image\n",
    "import torch\n",
    "\n",
    "os.environ['OPENAI_API_KEY'] = 'YOUR_API_KEY'\n",
    "openai.api_key = os.getenv('OPENAI_API_KEY')\n",
    "\n",
    "def generate_image(prompt):\n",
    "    torch.manual_seed(42)  # Fix the random seed for PyTorch\n",
    "    response = openai.Image.create(\n",
    "        prompt=prompt,\n",
    "        n=1,\n",
    "        size='512x512',\n",
    "        response_format='url',\n",
    "        model='image-alpha-001'\n",
    "    )\n",
    "    image_url = response['data'][0]['url']\n",
    "    return image_url\n",
    "\n",
    "def save_gif(image_urls, file_name):\n",
    "    images = []\n",
    "    for image_url in image_urls:\n",
    "        response = requests.get(image_url, stream=True)\n",
    "        if response.status_code == 200:\n",
    "            image = Image.open(response.raw)\n",
    "            images.append(image)\n",
    "        else:\n",
    "            print('ERROR LOADING IMAGE')\n",
    "    images[0].save(\n",
    "        file_name,\n",
    "        save_all=True,\n",
    "        append_images=images[1:],\n",
    "        optimize=False,\n",
    "        duration=1000 / 10,  # 10 fps\n",
    "        loop=0\n",
    "    )\n",
    "\n",
    "disaster_prompt = input(\"Enter the disaster prompt: \")\n",
    "background_perturbations = [0.0, 0.02, 0.04, 0.06, 0.08]\n",
    "disaster_perturbations = [0.0, 0.02, 0.04, 0.06, 0.08]\n",
    "image_urls = []\n",
    "for i in range(5):\n",
    "    background_perturbation = random.choice(background_perturbations)\n",
    "    disaster_perturbation = random.choice(disaster_perturbations)\n",
    "    prompt = disaster_prompt.replace('bg_perturb', f'bg_perturb {background_perturbation}').replace('disaster_perturb', f'disaster_perturb {disaster_perturbation}')\n",
    "    image_url = generate_image(prompt)\n",
    "    image_urls.append(image_url)\n",
    "save_gif(image_urls, f\"{disaster_prompt.replace(' ', '_')}.gif\")\n"
   ]
  },
  {
   "cell_type": "code",
   "execution_count": null,
   "id": "3b986adc",
   "metadata": {},
   "outputs": [],
   "source": []
  }
 ],
 "metadata": {
  "kernelspec": {
   "display_name": "Python 3 (ipykernel)",
   "language": "python",
   "name": "python3"
  },
  "language_info": {
   "codemirror_mode": {
    "name": "ipython",
    "version": 3
   },
   "file_extension": ".py",
   "mimetype": "text/x-python",
   "name": "python",
   "nbconvert_exporter": "python",
   "pygments_lexer": "ipython3",
   "version": "3.10.10"
  }
 },
 "nbformat": 4,
 "nbformat_minor": 5
}
