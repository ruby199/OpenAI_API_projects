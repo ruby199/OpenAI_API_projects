{
 "cells": [
  {
   "cell_type": "code",
   "execution_count": 50,
   "id": "c716a10b",
   "metadata": {},
   "outputs": [],
   "source": [
    "import os\n",
    "import openai\n",
    "\n",
    "os.environ['OPENAI_API_KEY'] = 'YOUR_API_KEY'\n",
    "openai.api_key = os.getenv('OPENAI_API_KEY')"
   ]
  },
  {
   "cell_type": "code",
   "execution_count": 2,
   "id": "e933daf3",
   "metadata": {},
   "outputs": [],
   "source": [
    "# Python\n",
    "# Function (OOP method x)\n"
   ]
  },
  {
   "cell_type": "code",
   "execution_count": 3,
   "id": "dd2f4e5c",
   "metadata": {},
   "outputs": [],
   "source": [
    "def hello(name):\n",
    "    print(f\"Hello {name}\")\n",
    "    \n",
    "# A high quality python docstring of the above Python function\n"
   ]
  },
  {
   "cell_type": "code",
   "execution_count": 25,
   "id": "2e501ecb",
   "metadata": {},
   "outputs": [],
   "source": [
    "def docstring_prompt(code):\n",
    "    prompt = f\"{code}\\n # A high quality python docstring of the above Python function: \\n \\\"\\\"\\\"\"\n",
    "    return prompt"
   ]
  },
  {
   "cell_type": "code",
   "execution_count": 26,
   "id": "f07368b4",
   "metadata": {},
   "outputs": [],
   "source": [
    "import inspect"
   ]
  },
  {
   "cell_type": "code",
   "execution_count": 27,
   "id": "ef8bb88f",
   "metadata": {},
   "outputs": [
    {
     "name": "stdout",
     "output_type": "stream",
     "text": [
      "def hello(name):\n",
      "    print(f\"Hello {name}\")\n",
      "\n"
     ]
    }
   ],
   "source": [
    "print(inspect.getsource(hello))"
   ]
  },
  {
   "cell_type": "code",
   "execution_count": 28,
   "id": "dad754e7",
   "metadata": {},
   "outputs": [
    {
     "name": "stdout",
     "output_type": "stream",
     "text": [
      "def hello(name):\n",
      "    print(f\"Hello {name}\")\n",
      "\n",
      " # A high quality python docstring of the above Python function: \n",
      " \"\"\"\n"
     ]
    }
   ],
   "source": [
    "print(docstring_prompt(inspect.getsource(hello)))"
   ]
  },
  {
   "cell_type": "code",
   "execution_count": 29,
   "id": "024bf5b6",
   "metadata": {},
   "outputs": [],
   "source": [
    "response = openai.Completion.create(\n",
    "        model='text-davinci-002',\n",
    "        prompt = docstrong_prompt(inspect.getsource(hello)),\n",
    "        temperature = 0,\n",
    "        max_tokens = 100,\n",
    "        top_p = 1.0,\n",
    "        stop = [\"\\\"\\\"\\\"\"]\n",
    ")"
   ]
  },
  {
   "cell_type": "code",
   "execution_count": 30,
   "id": "b7c70d14",
   "metadata": {},
   "outputs": [
    {
     "name": "stdout",
     "output_type": "stream",
     "text": [
      "\n",
      "    This function prints a greeting to the person whose name is passed as an argument.\n",
      "    :param name: The name of the person to greet\n",
      "    :type name: str\n",
      "    :return: None\n",
      "    :rtype: None\n",
      " \n"
     ]
    }
   ],
   "source": [
    "print(response['choices'][0]['text'])"
   ]
  },
  {
   "cell_type": "code",
   "execution_count": 31,
   "id": "353a7327",
   "metadata": {},
   "outputs": [
    {
     "data": {
      "text/plain": [
       "'def hello(name):\\n    print(f\"Hello {name}\")\\n\\n # A high quality python docstring of the above Python function: \\n \"\"\"'"
      ]
     },
     "execution_count": 31,
     "metadata": {},
     "output_type": "execute_result"
    }
   ],
   "source": [
    "docstring_prompt(inspect.getsource(hello))"
   ]
  },
  {
   "cell_type": "code",
   "execution_count": 42,
   "id": "e5fdc560",
   "metadata": {},
   "outputs": [],
   "source": [
    "# first line of the function (def myfunction():)\n",
    "# \"\"\" \n",
    "# DOCSTRING (COMPLETION APU)\n",
    "# \"\"\"\n",
    "# REST OF THE FUNCTION\n",
    "\n",
    "def merge_docstring_and_function(original_function, docstring):\n",
    "    function_string = inspect.getsource(original_function)\n",
    "    split = function_string.split('\\n')\n",
    "    first_part, second_part = split[0], split[1:]\n",
    "    \n",
    "    merged_function = first_part + '\\n    \"\"\"' + docstring + '    \"\"\"' + '\\n'.join(second_part)\n",
    "    \n",
    "    return merged_function\n",
    "    "
   ]
  },
  {
   "cell_type": "code",
   "execution_count": 35,
   "id": "fa4e24db",
   "metadata": {},
   "outputs": [
    {
     "data": {
      "text/plain": [
       "['def hello(name):', '    print(f\"Hello {name}\")', '']"
      ]
     },
     "execution_count": 35,
     "metadata": {},
     "output_type": "execute_result"
    }
   ],
   "source": [
    "inspect.getsource(hello).split('\\n')"
   ]
  },
  {
   "cell_type": "code",
   "execution_count": 36,
   "id": "d5815da6",
   "metadata": {},
   "outputs": [],
   "source": [
    "def hello_v2(name, pet):\n",
    "    print(f\"Hello {name}\")\n",
    "    print(f\"feed {pet}\")\n",
    "    print('all done')"
   ]
  },
  {
   "cell_type": "code",
   "execution_count": 39,
   "id": "c6e82f0c",
   "metadata": {},
   "outputs": [],
   "source": [
    "second_part = inspect.getsource(hello_v2).split('\\n')[1:]"
   ]
  },
  {
   "cell_type": "code",
   "execution_count": 40,
   "id": "7f066c98",
   "metadata": {},
   "outputs": [
    {
     "name": "stdout",
     "output_type": "stream",
     "text": [
      "    print(f\"Hello {name}\")\n",
      "    print(f\"feed {pet}\")\n",
      "    print('all done')\n",
      "\n"
     ]
    }
   ],
   "source": [
    "print(\"\\n\".join(second_part))"
   ]
  },
  {
   "cell_type": "code",
   "execution_count": 44,
   "id": "52379f17",
   "metadata": {},
   "outputs": [
    {
     "name": "stdout",
     "output_type": "stream",
     "text": [
      "def hello(name):\n",
      "    \"\"\"\n",
      "    This function prints a greeting to the person whose name is passed as an argument.\n",
      "    :param name: The name of the person to greet\n",
      "    :type name: str\n",
      "    :return: None\n",
      "    :rtype: None\n",
      "     \"\"\"    print(f\"Hello {name}\")\n",
      "\n"
     ]
    }
   ],
   "source": [
    "print(merge_docstring_and_function(hello, response['choices'][0]['text']))"
   ]
  },
  {
   "cell_type": "code",
   "execution_count": 47,
   "id": "a1740e56",
   "metadata": {},
   "outputs": [],
   "source": [
    "# example function\n",
    "\n",
    "def create_test_prompt(topic, num_questions, num_possible_answers):\n",
    "    prompt = f\"Create a multiple choice quiz on the topic of {topic} consisting of {num_questions} \"\\\n",
    "            + f\"Each question sould have {num_possible_answers} options. \"\\\n",
    "            + f\"Also include the correct answer for each question using the starting string 'Correct Answer:' \"\n",
    "    return prompt\n",
    "\n"
   ]
  },
  {
   "cell_type": "code",
   "execution_count": 49,
   "id": "6a88b634",
   "metadata": {},
   "outputs": [
    {
     "name": "stdout",
     "output_type": "stream",
     "text": [
      "def create_test_prompt(topic, num_questions, num_possible_answers):\n",
      "    \"\"\"\n",
      " This function creates a prompt for a multiple choice quiz on a given topic.\n",
      " \n",
      " Parameters:\n",
      "    topic (str): The topic of the quiz.\n",
      "    num_questions (int): The number of questions in the quiz.\n",
      "    num_possible_answers (int): The number of possible answers for each question.\n",
      " \n",
      " Returns:\n",
      "    str: The prompt for the quiz.\n",
      "     \"\"\"    prompt = f\"Create a multiple choice quiz on the topic of {topic} consisting of {num_questions} \"\\\n",
      "            + f\"Each question sould have {num_possible_answers} options. \"\\\n",
      "            + f\"Also include the correct answer for each question using the starting string 'Correct Answer:' \"\n",
      "    return prompt\n",
      "\n"
     ]
    }
   ],
   "source": [
    "response = openai.Completion.create(\n",
    "        model='text-davinci-002',\n",
    "        prompt = docstrong_prompt(inspect.getsource(create_test_prompt)),\n",
    "        temperature = 0,\n",
    "        max_tokens = 100,\n",
    "        top_p = 1.0,\n",
    "        stop = [\"\\\"\\\"\\\"\"]\n",
    ")\n",
    "\n",
    "print(merge_docstring_and_function(create_test_prompt, response['choices'][0]['text']))"
   ]
  },
  {
   "cell_type": "code",
   "execution_count": null,
   "id": "ff964cf0",
   "metadata": {},
   "outputs": [],
   "source": []
  }
 ],
 "metadata": {
  "kernelspec": {
   "display_name": "Python 3 (ipykernel)",
   "language": "python",
   "name": "python3"
  },
  "language_info": {
   "codemirror_mode": {
    "name": "ipython",
    "version": 3
   },
   "file_extension": ".py",
   "mimetype": "text/x-python",
   "name": "python",
   "nbconvert_exporter": "python",
   "pygments_lexer": "ipython3",
   "version": "3.10.11"
  }
 },
 "nbformat": 4,
 "nbformat_minor": 5
}
