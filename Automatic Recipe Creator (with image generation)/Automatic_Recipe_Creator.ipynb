{
 "cells": [
  {
   "cell_type": "code",
   "execution_count": 1,
   "id": "ea212913",
   "metadata": {},
   "outputs": [],
   "source": [
    "import os\n",
    "import openai"
   ]
  },
  {
   "cell_type": "code",
   "execution_count": 2,
   "id": "1e38bb65",
   "metadata": {},
   "outputs": [],
   "source": [
    "os.environ['OPENAI_API_KEY'] = 'YOUR_API_KEY'\n",
    "openai.api_key = os.getenv('OPENAI_API_KEY')"
   ]
  },
  {
   "cell_type": "code",
   "execution_count": 3,
   "id": "bfdacff0",
   "metadata": {},
   "outputs": [],
   "source": [
    "def create_dish_prompt(list_of_ingredients):\n",
    "    \n",
    "    prompt = f\"Create a detailed recipe based on only the following ingredients: {','.join(list_of_ingredients)}\"+ f\"Additionally, assign a title starting with 'Recipt Title: 'to this recipe.\"\n",
    "    return prompt"
   ]
  },
  {
   "cell_type": "code",
   "execution_count": 4,
   "id": "6b3a04ec",
   "metadata": {},
   "outputs": [],
   "source": [
    "recipe = create_dish_prompt(['ham', 'turkey', 'egg', 'bread', 'kimchi'])"
   ]
  },
  {
   "cell_type": "code",
   "execution_count": 5,
   "id": "1912e744",
   "metadata": {},
   "outputs": [
    {
     "data": {
      "text/plain": [
       "<OpenAIObject text_completion id=cmpl-700MjqwmFccMtNaTha4YTi2xUrZVS at 0x234b1b6aca0> JSON: {\n",
       "  \"choices\": [\n",
       "    {\n",
       "      \"finish_reason\": \"stop\",\n",
       "      \"index\": 0,\n",
       "      \"logprobs\": null,\n",
       "      \"text\": \"\\n\\nRecipe Title: Kimchi-Stuffed Ham and Turkey Roll-Ups\\n\\nIngredients: \\n- 2 slices of ham\\n- 2 slices of turkey\\n- 1 egg, beaten\\n- 2 slices of bread\\n- 1/4 cup of kimchi, chopped\\n\\nInstructions:\\n1. Preheat oven to 350\\u00b0F.\\n2. Place ham and turkey slices on a flat surface.\\n3. In a bowl, mix together egg and kimchi.\\n4. Place one slice of bread on top of each slice of ham and turkey.\\n5. Spread kimchi-egg mixture on top of each slice of bread.\\n6. Roll up each slice of ham and turkey with the bread and kimchi-egg mixture.\\n7. Place the roll-ups in a greased baking dish.\\n8. Bake in preheated oven for 20-25 minutes, or until the roll-ups are golden brown.\\n9. Serve warm. Enjoy!\"\n",
       "    }\n",
       "  ],\n",
       "  \"created\": 1680235761,\n",
       "  \"id\": \"cmpl-700MjqwmFccMtNaTha4YTi2xUrZVS\",\n",
       "  \"model\": \"text-davinci-003\",\n",
       "  \"object\": \"text_completion\",\n",
       "  \"usage\": {\n",
       "    \"completion_tokens\": 208,\n",
       "    \"prompt_tokens\": 40,\n",
       "    \"total_tokens\": 248\n",
       "  }\n",
       "}"
      ]
     },
     "execution_count": 5,
     "metadata": {},
     "output_type": "execute_result"
    }
   ],
   "source": [
    "response = openai.Completion.create(engine='text-davinci-003', prompt=recipe, max_tokens=512, temperature=0.7)\n",
    "response"
   ]
  },
  {
   "cell_type": "code",
   "execution_count": 6,
   "id": "d3747e2f",
   "metadata": {},
   "outputs": [
    {
     "name": "stdout",
     "output_type": "stream",
     "text": [
      "\n",
      "\n",
      "Recipe Title: Kimchi-Stuffed Ham and Turkey Roll-Ups\n",
      "\n",
      "Ingredients: \n",
      "- 2 slices of ham\n",
      "- 2 slices of turkey\n",
      "- 1 egg, beaten\n",
      "- 2 slices of bread\n",
      "- 1/4 cup of kimchi, chopped\n",
      "\n",
      "Instructions:\n",
      "1. Preheat oven to 350°F.\n",
      "2. Place ham and turkey slices on a flat surface.\n",
      "3. In a bowl, mix together egg and kimchi.\n",
      "4. Place one slice of bread on top of each slice of ham and turkey.\n",
      "5. Spread kimchi-egg mixture on top of each slice of bread.\n",
      "6. Roll up each slice of ham and turkey with the bread and kimchi-egg mixture.\n",
      "7. Place the roll-ups in a greased baking dish.\n",
      "8. Bake in preheated oven for 20-25 minutes, or until the roll-ups are golden brown.\n",
      "9. Serve warm. Enjoy!\n"
     ]
    }
   ],
   "source": [
    " print(response['choices'][0]['text'])"
   ]
  },
  {
   "cell_type": "code",
   "execution_count": 7,
   "id": "6641295a",
   "metadata": {},
   "outputs": [],
   "source": [
    "result_text = response['choices'][0]['text']"
   ]
  },
  {
   "cell_type": "code",
   "execution_count": 8,
   "id": "53101284",
   "metadata": {},
   "outputs": [
    {
     "data": {
      "text/plain": [
       "['\\n\\n',\n",
       " 'Kimchi-Stuffed Ham and Turkey Roll-Ups\\n\\nIngredients: \\n- 2 slices of ham\\n- 2 slices of turkey\\n- 1 egg, beaten\\n- 2 slices of bread\\n- 1/4 cup of kimchi, chopped\\n\\nInstructions:\\n1. Preheat oven to 350°F.\\n2. Place ham and turkey slices on a flat surface.\\n3. In a bowl, mix together egg and kimchi.\\n4. Place one slice of bread on top of each slice of ham and turkey.\\n5. Spread kimchi-egg mixture on top of each slice of bread.\\n6. Roll up each slice of ham and turkey with the bread and kimchi-egg mixture.\\n7. Place the roll-ups in a greased baking dish.\\n8. Bake in preheated oven for 20-25 minutes, or until the roll-ups are golden brown.\\n9. Serve warm. Enjoy!']"
      ]
     },
     "execution_count": 8,
     "metadata": {},
     "output_type": "execute_result"
    }
   ],
   "source": [
    "import re #  specifies a set of strings that matches it;\n",
    "\n",
    "result_text.split('Recipe Title: ')"
   ]
  },
  {
   "cell_type": "code",
   "execution_count": 9,
   "id": "1c3b4459",
   "metadata": {},
   "outputs": [],
   "source": [
    "def extract_title(recipe):\n",
    "    return re.findall('^.*Recipe Title: .*$', recipe, re.MULTILINE)[0].strip().split('Recipe Title: ')[-1] # last string in part of recipe title"
   ]
  },
  {
   "cell_type": "code",
   "execution_count": 10,
   "id": "d740e94e",
   "metadata": {},
   "outputs": [
    {
     "data": {
      "text/plain": [
       "'Kimchi-Stuffed Ham and Turkey Roll-Ups'"
      ]
     },
     "execution_count": 10,
     "metadata": {},
     "output_type": "execute_result"
    }
   ],
   "source": [
    "recipe_title = extract_title(result_text) # we are sending this to dalle-2\n",
    "recipe_title"
   ]
  },
  {
   "cell_type": "code",
   "execution_count": 11,
   "id": "ad77da4a",
   "metadata": {},
   "outputs": [],
   "source": [
    "def dalle2_prompt(recipe_title):\n",
    "    prompt = f\"{recipe_title}, professional food photography, 15mm, studio lighting\"\n",
    "    return prompt    "
   ]
  },
  {
   "cell_type": "code",
   "execution_count": 12,
   "id": "c4e1a597",
   "metadata": {},
   "outputs": [],
   "source": [
    "better_image_prompt = dalle2_prompt(recipe_title) # better prompt for image!!!"
   ]
  },
  {
   "cell_type": "code",
   "execution_count": 13,
   "id": "9758ef39",
   "metadata": {},
   "outputs": [],
   "source": [
    "image_response = openai.Image.create(\n",
    "    prompt=extract_title(result_text),\n",
    "    n=1,\n",
    "    size='1024x1024'\n",
    ")\n",
    "\n",
    "\n",
    "\n",
    "better_image_response = openai.Image.create(\n",
    "    prompt=extract_title(result_text),\n",
    "    n=1,\n",
    "    size='1024x1024'\n",
    ")\n"
   ]
  },
  {
   "cell_type": "code",
   "execution_count": 14,
   "id": "2aee8bd9",
   "metadata": {},
   "outputs": [],
   "source": [
    "image_url = image_response['data'][0]['url']\n",
    "\n",
    "better_image_url = better_image_response['data'][0]['url']\n",
    "\n"
   ]
  },
  {
   "cell_type": "code",
   "execution_count": 15,
   "id": "86cc508b",
   "metadata": {},
   "outputs": [],
   "source": [
    "import requests # need to import request to gain access to the internet\n",
    "import shutil # utility\n",
    "\n",
    "# save image to extract, and make image better\n",
    "\n",
    "def save_image(image_url, file_name):\n",
    "    # URL --> pic.png\n",
    "    image_res = requests.get(image_url, stream=True)\n",
    "    if image_res.status_code == 200:\n",
    "        with open(file_name, 'wb') as f:\n",
    "            shutil.copyfileobj(image_res.raw, f)\n",
    "    else:\n",
    "        print('ERROR LOADING IMAGE')\n",
    "    \n",
    "    return image_res.status_code\n",
    "\n",
    "\n",
    "\n",
    "def save_better_image(better_image_prompt, file_name):\n",
    "    # URL --> pic.png\n",
    "    image_res = requests.get(better_image_url, stream=True)\n",
    "    if image_res.status_code == 200:\n",
    "        with open(file_name, 'wb') as f:\n",
    "            shutil.copyfileobj(image_res.raw, f)\n",
    "    else:\n",
    "        print('ERROR LOADING IMAGE')\n",
    "    \n",
    "    return image_res.status_code"
   ]
  },
  {
   "cell_type": "code",
   "execution_count": 16,
   "id": "ae4c03d6",
   "metadata": {},
   "outputs": [
    {
     "data": {
      "text/plain": [
       "200"
      ]
     },
     "execution_count": 16,
     "metadata": {},
     "output_type": "execute_result"
    }
   ],
   "source": [
    "save_image(image_url, 'example_download_Automatic_recipt_creator.png')"
   ]
  },
  {
   "cell_type": "code",
   "execution_count": 17,
   "id": "f35a00ec",
   "metadata": {},
   "outputs": [
    {
     "data": {
      "text/plain": [
       "200"
      ]
     },
     "execution_count": 17,
     "metadata": {},
     "output_type": "execute_result"
    }
   ],
   "source": [
    "save_better_image(better_image_prompt, 'example_download_Automatic_recipt_creator_better.png')"
   ]
  }
 ],
 "metadata": {
  "kernelspec": {
   "display_name": "Python 3 (ipykernel)",
   "language": "python",
   "name": "python3"
  },
  "language_info": {
   "codemirror_mode": {
    "name": "ipython",
    "version": 3
   },
   "file_extension": ".py",
   "mimetype": "text/x-python",
   "name": "python",
   "nbconvert_exporter": "python",
   "pygments_lexer": "ipython3",
   "version": "3.10.11"
  }
 },
 "nbformat": 4,
 "nbformat_minor": 5
}
